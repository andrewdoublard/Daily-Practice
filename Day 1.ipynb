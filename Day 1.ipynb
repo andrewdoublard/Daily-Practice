{
 "cells": [
  {
   "cell_type": "markdown",
   "id": "d604c976",
   "metadata": {},
   "source": [
    "## Part 1: Data Manipulation with Pandas (10-15 minutes)\n",
    "##### Real-World Scenario: Sales Data Analysis\n",
    "##### You have sales data from a small electronics store. Your task is to perform some key data analysis tasks that would help identify trends and insights.\n",
    "\n",
    "- Task 1: Load the following sales data into a pandas DataFrame:\n",
    "- Task 2: Convert the Date column to datetime format.\n",
    "- Task 3: Add a new column Revenue that is calculated as Price * Units_Sold.\n",
    "- Task 4: Filter the DataFrame to show only records where the Revenue is greater than 5,000.\n",
    "- Task 5: Calculate the total revenue for each Store_Location using a groupby operation."
   ]
  },
  {
   "cell_type": "code",
   "execution_count": 1,
   "id": "264ad6e9",
   "metadata": {},
   "outputs": [
    {
     "name": "stdout",
     "output_type": "stream",
     "text": [
      "        Date     Product  Price  Units_Sold Store_Location  Revenue\n",
      "0 2023-01-01      Laptop   1200          10       New York    12000\n",
      "1 2023-01-02      Tablet    300          25    Los Angeles     7500\n",
      "2 2023-01-03  Smartphone    800          15       New York    12000\n",
      "4 2023-01-05      Laptop   1200           8    Los Angeles     9600\n",
      "Store_Location\n",
      "Chicago         2800\n",
      "Los Angeles    17100\n",
      "New York       24000\n",
      "Name: Revenue, dtype: int64\n"
     ]
    }
   ],
   "source": [
    "import pandas as pd\n",
    "\n",
    "data = {\n",
    "    'Date': ['2023-01-01', '2023-01-02', '2023-01-03', '2023-01-04', '2023-01-05'],\n",
    "    'Product': ['Laptop', 'Tablet', 'Smartphone', 'Monitor', 'Laptop'],\n",
    "    'Price': [1200, 300, 800, 400, 1200],\n",
    "    'Units_Sold': [10, 25, 15, 7, 8],\n",
    "    'Store_Location': ['New York', 'Los Angeles', 'New York', 'Chicago', 'Los Angeles']\n",
    "}\n",
    "\n",
    "# Task 1:\n",
    "df = pd.DataFrame(data)\n",
    "\n",
    "# Task 2:\n",
    "df['Date'] = pd.to_datetime(df['Date'])\n",
    "\n",
    "# Task 3:\n",
    "df['Revenue'] = df['Price']*df['Units_Sold']\n",
    "\n",
    "# Task 4:\n",
    "df_task4 = df[df['Revenue'] > 5000]\n",
    "\n",
    "print(df_task4)\n",
    "\n",
    "# Task 5:\n",
    "df_task5 = df.groupby('Store_Location')['Revenue'].sum()\n",
    "\n",
    "print(df_task5)\n"
   ]
  },
  {
   "cell_type": "markdown",
   "id": "e4c6ef7f",
   "metadata": {},
   "source": [
    "## Part 2: Numpy Operations and Matrix Algebra (5-10 minutes)\n",
    "#### Real-World Scenario: Linear Algebra in Machine Learning\n",
    "#### You are working with data that requires linear algebraic operations, which is common in machine learning, such as when dealing with transformation matrices or linear regression coefficients.\n",
    "\n",
    "- Task 1: Create the following two matrices using numpy:\n",
    "\n",
    "A = [[1, 2, 3], [4, 5, 6], [7, 8, 9]]\n",
    "B = [[10, 11, 12], [13, 14, 15], [16, 17, 18]]\n",
    "\n",
    "- Task 2: Compute the dot product of A and B.T (the transpose of B).\n",
    "- Task 3: Compute the inverse of a 2x2 matrix C:\n",
    "- Task 4: Use np.exp() to apply the exponential function to all elements of matrix A.\n"
   ]
  },
  {
   "cell_type": "code",
   "execution_count": 3,
   "id": "59a2d4bd",
   "metadata": {},
   "outputs": [
    {
     "name": "stdout",
     "output_type": "stream",
     "text": [
      "NumPy Task 1 A = [[1 2 3]\n",
      " [4 5 6]\n",
      " [7 8 9]] , NumPy Task 1 B = [[10 11 12]\n",
      " [13 14 15]\n",
      " [16 17 18]]\n",
      "NumPy Task 2 = [[ 68  86 104]\n",
      " [167 212 257]\n",
      " [266 338 410]]\n",
      "NumPy Task 3 = [[-2.   1. ]\n",
      " [ 1.5 -0.5]]\n",
      "NumPy Task 4 = [[2.71828183e+00 7.38905610e+00 2.00855369e+01]\n",
      " [5.45981500e+01 1.48413159e+02 4.03428793e+02]\n",
      " [1.09663316e+03 2.98095799e+03 8.10308393e+03]]\n"
     ]
    }
   ],
   "source": [
    "import numpy as np\n",
    "\n",
    "# Task 1\n",
    "A = np.array([[1, 2, 3], [4, 5, 6], [7, 8, 9]])\n",
    "B = np.array([[10, 11, 12], [13, 14, 15], [16, 17, 18]])\n",
    "print(f'NumPy Task 1 A = {A} , NumPy Task 1 B = {B}')\n",
    "\n",
    "# Task 2\n",
    "np_task_2 = np.dot(A, B.T)\n",
    "print(f'NumPy Task 2 = {np_task_2}')\n",
    "\n",
    "# Task 3\n",
    "C = np.array([[1, 2], [3, 4]])\n",
    "np_task_3 = np.linalg.inv(C)\n",
    "print(f'NumPy Task 3 = {np_task_3}')\n",
    "\n",
    "# Task 4\n",
    "np_task_4 = np.exp(A)\n",
    "print(f'NumPy Task 4 = {np_task_4}')"
   ]
  },
  {
   "cell_type": "markdown",
   "id": "d02f5e37",
   "metadata": {},
   "source": [
    "## Part 3: Machine Learning Model with Scikit-learn (10 minutes)\n",
    "#### Real-World Scenario: Predicting House Prices\n",
    "#### You are building a model to predict house prices based on certain features such as square footage, number of bedrooms, and age of the house. For simplicity, let's simulate some data and build a basic linear regression model.\n",
    "\n",
    "- Task 1: Create the following feature matrix (X) and target variable (y):\n",
    "\n",
    "- Task 2: Create and fit a LinearRegression model on this data.\n",
    "\n",
    "- Task 3: Use the model to predict the price of a house with the following features: 2100 square feet, 4 bedrooms, and 15 years old.\n",
    "\n",
    "- Task 4: Print the model's intercept and coefficients.\n",
    "\n",
    "- Task 5: Calculate and print the R-squared score of the model. (Use train data just for practice)"
   ]
  },
  {
   "cell_type": "code",
   "execution_count": 4,
   "id": "de6fc4da",
   "metadata": {},
   "outputs": [
    {
     "name": "stdout",
     "output_type": "stream",
     "text": [
      "SKL Task 3 = [300000.]\n",
      "Task 4: Intercept = -350000.0000000007, Coeff = [2.12714566e-13 1.50000000e+05 1.00000000e+04]\n",
      "Task 5: R2 Score = 1.0\n"
     ]
    }
   ],
   "source": [
    "from sklearn.linear_model import LinearRegression\n",
    "\n",
    "# Task 1\n",
    "X = np.array([[1500, 3, 20], [1800, 4, 15], [2400, 5, 10], [1700, 3, 25], [2000, 4, 20]])\n",
    "y = np.array([300000, 400000, 500000, 350000, 450000])\n",
    "\n",
    "# Task 2\n",
    "lr = LinearRegression()\n",
    "lr.fit(X, y)\n",
    "\n",
    "# Task 3\n",
    "skl_task3 = lr.predict(np.array([[2100, 4, 5]]))\n",
    "print(f'SKL Task 3 = {skl_task3}')\n",
    "\n",
    "# Task 4\n",
    "print(f'Task 4: Intercept = {lr.intercept_}, Coeff = {lr.coef_}')\n",
    "\n",
    "# Task 5\n",
    "print(f'Task 5: R2 Score = {lr.score(X,y)}')"
   ]
  }
 ],
 "metadata": {
  "kernelspec": {
   "display_name": "Python 3 (ipykernel)",
   "language": "python",
   "name": "python3"
  },
  "language_info": {
   "codemirror_mode": {
    "name": "ipython",
    "version": 3
   },
   "file_extension": ".py",
   "mimetype": "text/x-python",
   "name": "python",
   "nbconvert_exporter": "python",
   "pygments_lexer": "ipython3",
   "version": "3.9.13"
  }
 },
 "nbformat": 4,
 "nbformat_minor": 5
}
