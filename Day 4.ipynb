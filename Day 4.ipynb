{
 "cells": [
  {
   "cell_type": "markdown",
   "id": "6ce7278e",
   "metadata": {},
   "source": [
    "## Tasks:\n",
    "#### Task 1: Load and Explore the Data\n",
    "\n",
    "- Use the load_diabetes() dataset from the sklearn library.\n",
    "- Convert the dataset into a pandas DataFrame with appropriate column names.\n",
    "- Print the first 5 rows and summary statistics (mean, median, etc.) of the dataset.\n",
    "- Hint: Use the .DESCR attribute to understand the features of the dataset."
   ]
  },
  {
   "cell_type": "code",
   "execution_count": 2,
   "id": "94dfb249",
   "metadata": {},
   "outputs": [
    {
     "name": "stdout",
     "output_type": "stream",
     "text": [
      "        age       sex       bmi        bp        s1        s2        s3  \\\n",
      "0  0.038076  0.050680  0.061696  0.021872 -0.044223 -0.034821 -0.043401   \n",
      "1 -0.001882 -0.044642 -0.051474 -0.026328 -0.008449 -0.019163  0.074412   \n",
      "2  0.085299  0.050680  0.044451 -0.005671 -0.045599 -0.034194 -0.032356   \n",
      "3 -0.089063 -0.044642 -0.011595 -0.036656  0.012191  0.024991 -0.036038   \n",
      "4  0.005383 -0.044642 -0.036385  0.021872  0.003935  0.015596  0.008142   \n",
      "\n",
      "         s4        s5        s6  target  \n",
      "0 -0.002592  0.019908 -0.017646   151.0  \n",
      "1 -0.039493 -0.068330 -0.092204    75.0  \n",
      "2 -0.002592  0.002864 -0.025930   141.0  \n",
      "3  0.034309  0.022692 -0.009362   206.0  \n",
      "4 -0.002592 -0.031991 -0.046641   135.0  \n",
      "\n",
      "                age           sex           bmi            bp            s1  \\\n",
      "count  4.420000e+02  4.420000e+02  4.420000e+02  4.420000e+02  4.420000e+02   \n",
      "mean  -3.634285e-16  1.308343e-16 -8.045349e-16  1.281655e-16 -8.835316e-17   \n",
      "std    4.761905e-02  4.761905e-02  4.761905e-02  4.761905e-02  4.761905e-02   \n",
      "min   -1.072256e-01 -4.464164e-02 -9.027530e-02 -1.123996e-01 -1.267807e-01   \n",
      "25%   -3.729927e-02 -4.464164e-02 -3.422907e-02 -3.665645e-02 -3.424784e-02   \n",
      "50%    5.383060e-03 -4.464164e-02 -7.283766e-03 -5.670611e-03 -4.320866e-03   \n",
      "75%    3.807591e-02  5.068012e-02  3.124802e-02  3.564384e-02  2.835801e-02   \n",
      "max    1.107267e-01  5.068012e-02  1.705552e-01  1.320442e-01  1.539137e-01   \n",
      "\n",
      "                 s2            s3            s4            s5            s6  \\\n",
      "count  4.420000e+02  4.420000e+02  4.420000e+02  4.420000e+02  4.420000e+02   \n",
      "mean   1.327024e-16 -4.574646e-16  3.777301e-16 -3.830854e-16 -3.412882e-16   \n",
      "std    4.761905e-02  4.761905e-02  4.761905e-02  4.761905e-02  4.761905e-02   \n",
      "min   -1.156131e-01 -1.023071e-01 -7.639450e-02 -1.260974e-01 -1.377672e-01   \n",
      "25%   -3.035840e-02 -3.511716e-02 -3.949338e-02 -3.324879e-02 -3.317903e-02   \n",
      "50%   -3.819065e-03 -6.584468e-03 -2.592262e-03 -1.947634e-03 -1.077698e-03   \n",
      "75%    2.984439e-02  2.931150e-02  3.430886e-02  3.243323e-02  2.791705e-02   \n",
      "max    1.987880e-01  1.811791e-01  1.852344e-01  1.335990e-01  1.356118e-01   \n",
      "\n",
      "           target  \n",
      "count  442.000000  \n",
      "mean   152.133484  \n",
      "std     77.093005  \n",
      "min     25.000000  \n",
      "25%     87.000000  \n",
      "50%    140.500000  \n",
      "75%    211.500000  \n",
      "max    346.000000  \n"
     ]
    }
   ],
   "source": [
    "import pandas as pd\n",
    "import numpy as np\n",
    "from sklearn.model_selection import train_test_split\n",
    "from sklearn.linear_model import LinearRegression\n",
    "from sklearn.metrics import mean_absolute_error, mean_squared_error\n",
    "from sklearn.preprocessing import StandardScaler\n",
    "from sklearn.datasets import load_diabetes\n",
    "\n",
    "raw_data = load_diabetes()\n",
    "\n",
    "df = pd.DataFrame(raw_data.data, columns = raw_data.feature_names)\n",
    "df['target'] = raw_data.target\n",
    "\n",
    "print(df.head())\n",
    "print('')\n",
    "print(df.describe())"
   ]
  },
  {
   "cell_type": "markdown",
   "id": "8466f7f8",
   "metadata": {},
   "source": [
    "#### Task 2: Feature Scaling\n",
    "\n",
    "- Use StandardScaler to scale the feature columns.\n",
    "- Fit the scaler to the independent variables (exclude the target variable, which is the disease progression score) and transform the data."
   ]
  },
  {
   "cell_type": "code",
   "execution_count": 11,
   "id": "fd1eb003",
   "metadata": {},
   "outputs": [
    {
     "name": "stdout",
     "output_type": "stream",
     "text": [
      "[[ 0.80050009  1.06548848  1.29708846  0.45983993 -0.92974581 -0.73206462\n",
      "  -0.91245053 -0.05449919  0.41855058 -0.37098854]\n",
      " [-0.03956713 -0.93853666 -1.08218016 -0.55351103 -0.17762425 -0.40288615\n",
      "   1.56441355 -0.83030083 -1.43655059 -1.93847913]\n",
      " [ 1.79330681  1.06548848  0.93453324 -0.11921776 -0.95867356 -0.71889748\n",
      "  -0.68024452 -0.05449919  0.06020733 -0.54515416]\n",
      " [-1.87244107 -0.93853666 -0.24377122 -0.77065766  0.25629203  0.52539714\n",
      "  -0.75764652  0.72130245  0.47707245 -0.19682291]\n",
      " [ 0.11317236 -0.93853666 -0.76494435  0.45983993  0.08272552  0.32789006\n",
      "   0.17117751 -0.05449919 -0.67258161 -0.98056821]]\n"
     ]
    }
   ],
   "source": [
    "scaler = StandardScaler()\n",
    "\n",
    "data = df.drop(columns = 'target')\n",
    "\n",
    "scaled_data = scaler.fit_transform(data)\n",
    "\n",
    "print(scaled_data[0:5])"
   ]
  },
  {
   "cell_type": "markdown",
   "id": "3af071e9",
   "metadata": {},
   "source": [
    "#### Task 3: Train-Test Split\n",
    "\n",
    "- Split the dataset into training and test sets using an 80-20 ratio.\n",
    "- Use X for the independent variables (features) and y for the target variable (disease progression score)."
   ]
  },
  {
   "cell_type": "code",
   "execution_count": 12,
   "id": "dbb1c527",
   "metadata": {},
   "outputs": [
    {
     "name": "stdout",
     "output_type": "stream",
     "text": [
      "Train Shape: (353, 10)\n",
      "Test Shape: (89, 10)\n"
     ]
    }
   ],
   "source": [
    "target = df['target']\n",
    "\n",
    "data_train, data_test, target_train, target_test = train_test_split(scaled_data, target, test_size = 0.2)\n",
    "\n",
    "print(f'Train Shape: {data_train.shape}')\n",
    "print(f'Test Shape: {data_test.shape}')"
   ]
  },
  {
   "cell_type": "markdown",
   "id": "467bc3f1",
   "metadata": {},
   "source": [
    "#### Task 4: Linear Regression Model\n",
    "\n",
    "- Build a Linear Regression model using the training data.\n",
    "- Fit the model to the scaled training data and make predictions on the test set."
   ]
  },
  {
   "cell_type": "code",
   "execution_count": 13,
   "id": "47946693",
   "metadata": {},
   "outputs": [
    {
     "name": "stdout",
     "output_type": "stream",
     "text": [
      "[174.44272692 216.70269417 208.8950362  104.07510453 160.28356605]\n"
     ]
    }
   ],
   "source": [
    "lr = LinearRegression()\n",
    "\n",
    "lr.fit(data_train, target_train)\n",
    "\n",
    "predictions = lr.predict(data_test)\n",
    "\n",
    "print(predictions[0:5])"
   ]
  },
  {
   "cell_type": "markdown",
   "id": "ee7060c7",
   "metadata": {},
   "source": [
    "#### Task 5: Model Evaluation\n",
    "\n",
    "- Evaluate the model’s performance using:\n",
    "- Mean Absolute Error (MAE)\n",
    "- Mean Squared Error (MSE)\n",
    "- Print the calculated MAE and MSE values, and briefly assess how well the model performs based on these metric"
   ]
  },
  {
   "cell_type": "code",
   "execution_count": 15,
   "id": "49344505",
   "metadata": {},
   "outputs": [
    {
     "name": "stdout",
     "output_type": "stream",
     "text": [
      "MAE = 46.8962\n",
      "MSE = 3367.1504\n"
     ]
    }
   ],
   "source": [
    "MAE = mean_absolute_error(target_test, predictions)\n",
    "MSE = mean_squared_error(target_test, predictions)\n",
    "\n",
    "print(f'MAE = {MAE:.4f}')\n",
    "print(f'MSE = {MSE:.4f}')"
   ]
  }
 ],
 "metadata": {
  "kernelspec": {
   "display_name": "Python 3 (ipykernel)",
   "language": "python",
   "name": "python3"
  },
  "language_info": {
   "codemirror_mode": {
    "name": "ipython",
    "version": 3
   },
   "file_extension": ".py",
   "mimetype": "text/x-python",
   "name": "python",
   "nbconvert_exporter": "python",
   "pygments_lexer": "ipython3",
   "version": "3.9.13"
  }
 },
 "nbformat": 4,
 "nbformat_minor": 5
}
