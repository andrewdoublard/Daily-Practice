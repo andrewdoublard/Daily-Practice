{
 "cells": [
  {
   "cell_type": "markdown",
   "id": "306d00d6",
   "metadata": {},
   "source": [
    "# Task Overview: Sales Forecasting Process\n",
    "#### You are working with a dataset of product sales. Your task is to clean and prepare the data, build a model to predict sales, and evaluate the model's performance.\n",
    "\n",
    "### Task 1: Data Loading and Cleaning (Pandas)\n",
    "-  Load the dataset: Create a DataFrame from the following dictionary representing sales data:\n",
    "- Clean the data: \n",
    "    - Impute missing values: \n",
    "        - Use SimpleImputer from sklearn to fill missing values:\n",
    "            - Replace missing values in \"Units_Sold\" and \"Price_Per_Unit\" with the mean of the respective column.\n",
    "            - Ensure all missing values are handled, and print the cleaned DataFrame.\n",
    "\n"
   ]
  },
  {
   "cell_type": "code",
   "execution_count": 4,
   "id": "36e5c370",
   "metadata": {},
   "outputs": [
    {
     "name": "stdout",
     "output_type": "stream",
     "text": [
      "   Product_ID  Units_Sold  Price_Per_Unit  Discount_Applied Store_Location\n",
      "0         101        15.0           100.0                 0       New York\n",
      "1         102        20.5           120.0                10    Los Angeles\n",
      "2         103        20.0           150.0                 5       New York\n",
      "3         104        17.0           125.0                 0        Chicago\n",
      "4         105        30.0           130.0                15        Chicago\n"
     ]
    }
   ],
   "source": [
    "import numpy as np\n",
    "import pandas as pd\n",
    "from sklearn.impute import SimpleImputer\n",
    "from sklearn.linear_model import LinearRegression\n",
    "from sklearn.model_selection import train_test_split\n",
    "\n",
    "\n",
    "data = {\n",
    "    'Product_ID': [101, 102, 103, 104, 105],\n",
    "    'Units_Sold': [15, np.nan, 20, 17, 30],\n",
    "    'Price_Per_Unit': [100, 120, 150, np.nan, 130],\n",
    "    'Discount_Applied': [0, 10, 5, 0, 15],\n",
    "    'Store_Location': ['New York', 'Los Angeles', 'New York', 'Chicago', 'Chicago']\n",
    "}\n",
    "\n",
    "## Loading Dataset into a DataFrame.\n",
    "df = pd.DataFrame(data)\n",
    "\n",
    "## Replacing missing values.\n",
    "\n",
    "imputer = SimpleImputer(missing_values = np.nan, strategy='mean')\n",
    "Imputed_Units_Sold = imputer.fit_transform(df[['Units_Sold']])\n",
    "df['Units_Sold'] = Imputed_Units_Sold\n",
    "\n",
    "\n",
    "Imputed_Price_Per_Unit = imputer.fit_transform(df[['Price_Per_Unit']])\n",
    "df['Price_Per_Unit'] = Imputed_Price_Per_Unit\n",
    "\n",
    "## Printing clean DataFrame.\n",
    "\n",
    "print(df)\n"
   ]
  },
  {
   "cell_type": "markdown",
   "id": "19803b7a",
   "metadata": {},
   "source": [
    "### Task 2: Feature Engineering (Pandas and NumPy)\n",
    "#### Create new features:\n",
    "- Add a new column Revenue, which is calculated as: Revenue = (Units_Sold * Price_Per_Unit) - Discount_Applied\n",
    "- Categorize locations:\n",
    "    - Create a new column called Store_Category based on Store_Location:\n",
    "        - If the store is in New York, label it \"Tier 1\", otherwise label it \"Tier 2\".\n",
    "        - Print the updated DataFrame.\n"
   ]
  },
  {
   "cell_type": "code",
   "execution_count": 6,
   "id": "d84d6fef",
   "metadata": {},
   "outputs": [
    {
     "name": "stdout",
     "output_type": "stream",
     "text": [
      "   Product_ID  Units_Sold  Price_Per_Unit  Discount_Applied Store_Location  \\\n",
      "0         101        15.0           100.0                 0       New York   \n",
      "1         102        20.5           120.0                10    Los Angeles   \n",
      "2         103        20.0           150.0                 5       New York   \n",
      "3         104        17.0           125.0                 0        Chicago   \n",
      "4         105        30.0           130.0                15        Chicago   \n",
      "\n",
      "   Revenue Store_Category  \n",
      "0   1500.0         Tier 1  \n",
      "1   2450.0         Tier 2  \n",
      "2   2995.0         Tier 1  \n",
      "3   2125.0         Tier 2  \n",
      "4   3885.0         Tier 2  \n"
     ]
    }
   ],
   "source": [
    "## Adding Revenue Column.\n",
    "df['Revenue'] = df['Units_Sold']*df['Price_Per_Unit']-df['Discount_Applied']\n",
    "\n",
    "## Adding Store_Category Column.\n",
    "df['Store_Category'] = np.where(df['Store_Location'] == 'New York', 'Tier 1', 'Tier 2')\n",
    "\n",
    "## Printing Updated df.\n",
    "print(df)"
   ]
  },
  {
   "cell_type": "markdown",
   "id": "f86466ed",
   "metadata": {},
   "source": [
    "### Task 3: Modeling (scikit-learn)\n",
    "#### Prepare data for modeling:\n",
    "- Use the columns \"Units_Sold\", \"Price_Per_Unit\", and \"Discount_Applied\" as the features (X).\n",
    "- Use the Revenue column as the target variable (y).\n",
    "- Split the data into a training and test set (80/20 split)\n",
    "- Create and fit a LinearRegression model using the training data.\n",
    "- Evaluate the model:\n",
    "    - Print the model's R² score on the test set.\n",
    "    - Predict the revenue for a sample input where \"Units_Sold\" = 25, \"Price_Per_Unit\" = 120, and \"Discount_Applied\" = 10.\n",
    "    \n",
    "    \n",
    "##### (Note: Logic is correct but because the data set is so small it's unreliable to treat it in such a way with a train and test split. For the sake of practice continue anyways, but keep in mind that when handling small data sets cross validation or training on the whole sample is better.)"
   ]
  },
  {
   "cell_type": "code",
   "execution_count": 9,
   "id": "201465a1",
   "metadata": {},
   "outputs": [
    {
     "name": "stdout",
     "output_type": "stream",
     "text": [
      "R2 of LR model on the test set = nan\n",
      "Predicting Revenue where Units_Sold = 25, Price_Per_Unit = 120, and Discount_Applied = 10: [3090.]\n"
     ]
    },
    {
     "name": "stderr",
     "output_type": "stream",
     "text": [
      "C:\\Users\\andre\\anaconda3\\lib\\site-packages\\sklearn\\metrics\\_regression.py:796: UndefinedMetricWarning: R^2 score is not well-defined with less than two samples.\n",
      "  warnings.warn(msg, UndefinedMetricWarning)\n",
      "C:\\Users\\andre\\anaconda3\\lib\\site-packages\\sklearn\\base.py:450: UserWarning: X does not have valid feature names, but LinearRegression was fitted with feature names\n",
      "  warnings.warn(\n"
     ]
    }
   ],
   "source": [
    "# Determining variables.\n",
    "X = df[['Units_Sold', 'Price_Per_Unit', 'Discount_Applied']]\n",
    "y = df['Revenue']\n",
    "\n",
    "# Splitting into train and test.\n",
    "X_train, X_test, y_train, y_test = train_test_split(X, y, test_size = 0.2)\n",
    "\n",
    "# Creating and fitting LinearRegression Model.\n",
    "lr = LinearRegression()\n",
    "lr.fit(X_train, y_train)\n",
    "\n",
    "# Evaluating the Model.\n",
    "r2_score = lr.score(X_test, y_test)\n",
    "print(f'R2 of LR model on the test set = {r2_score:.4f}')\n",
    "      \n",
    "pred = lr.predict([[25, 120, 10]])\n",
    "print(f'Predicting Revenue where Units_Sold = 25, Price_Per_Unit = 120, and Discount_Applied = 10: {pred}')"
   ]
  },
  {
   "cell_type": "markdown",
   "id": "b859d199",
   "metadata": {},
   "source": [
    "### Task 4: Data Summary (Pandas)\n",
    "- Summary statistics:\n",
    "    - Get and print the mean, median, and standard deviation of the Revenue column using Pandas methods."
   ]
  },
  {
   "cell_type": "code",
   "execution_count": 11,
   "id": "f33dc846",
   "metadata": {},
   "outputs": [
    {
     "name": "stdout",
     "output_type": "stream",
     "text": [
      "count       5.000000\n",
      "mean     2591.000000\n",
      "std       903.461399\n",
      "min      1500.000000\n",
      "25%      2125.000000\n",
      "50%      2450.000000\n",
      "75%      2995.000000\n",
      "max      3885.000000\n",
      "Name: Revenue, dtype: float64\n"
     ]
    }
   ],
   "source": [
    "print(df['Revenue'].describe())"
   ]
  }
 ],
 "metadata": {
  "kernelspec": {
   "display_name": "Python 3 (ipykernel)",
   "language": "python",
   "name": "python3"
  },
  "language_info": {
   "codemirror_mode": {
    "name": "ipython",
    "version": 3
   },
   "file_extension": ".py",
   "mimetype": "text/x-python",
   "name": "python",
   "nbconvert_exporter": "python",
   "pygments_lexer": "ipython3",
   "version": "3.9.13"
  }
 },
 "nbformat": 4,
 "nbformat_minor": 5
}
